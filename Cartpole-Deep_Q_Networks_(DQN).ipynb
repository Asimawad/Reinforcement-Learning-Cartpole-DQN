{
  "cells": [
    {
      "cell_type": "markdown",
      "metadata": {
        "id": "m2s4kN_QPQVe"
      },
      "source": [
        "# **Deep Q-Networks (DQN)**\n",
        "\n",
        "\n",
        "### **Part 6**: Reinforcement Learning (from Zero to One)\n",
        "\n",
        "*African Institute for Mathematical Sciences (AIMS), South Africa\n",
        "11 November, 2024*\n",
        "\n",
        "**Arnu Pretorius** - Staff Research Scientist, InstaDeep\n",
        "\n",
        "*Credits*: Adapted from Deep Learning Indaba 2022. Apache License 2.0.\n"
      ]
    },
    {
      "cell_type": "markdown",
      "metadata": {
        "id": "6EqhIg1odqg0"
      },
      "source": [
        "## Setup"
      ]
    },
    {
      "cell_type": "code",
      "execution_count": null,
      "metadata": {
        "id": "4boGA9rYdt9l"
      },
      "outputs": [],
      "source": [
        "# @title Install required packages (run me) { display-mode: \"form\" }\n",
        "# @markdown This may take a minute or two to complete.\n",
        "%%capture\n",
        "!sudo apt install swig\n",
        "!pip install jaxlib\n",
        "!pip install jax\n",
        "!pip install git+https://github.com/deepmind/dm-haiku\n",
        "!pip install gym\n",
        "!pip install gym[box2d]\n",
        "!pip install optax\n",
        "!pip install matplotlib\n",
        "!pip install chex"
      ]
    },
    {
      "cell_type": "code",
      "execution_count": null,
      "metadata": {
        "id": "gwbqggmcRjMy"
      },
      "outputs": [],
      "source": [
        "# @title Import required packages (run me) { display-mode: \"form\" }\n",
        "%%capture\n",
        "import copy\n",
        "from shutil import rmtree # deleting directories\n",
        "import random\n",
        "import collections # useful data structures\n",
        "import numpy as np\n",
        "import gym # reinforcement learning environments\n",
        "from gym.wrappers import RecordVideo\n",
        "import jax\n",
        "import jax.numpy as jnp # jax numpy\n",
        "import haiku as hk # jax neural network library\n",
        "import optax # jax optimizer library\n",
        "import matplotlib.pyplot as plt # graph plotting library\n",
        "from IPython.display import HTML\n",
        "from base64 import b64encode\n",
        "import chex\n",
        "\n",
        "# Hide warnings\n",
        "import warnings\n",
        "warnings.filterwarnings('ignore')"
      ]
    },
    {
      "cell_type": "markdown",
      "source": [
        "### **Environment (warm-up)**\n",
        "\n",
        "We will begin by using the simple **CartPole** environment. In CartPole, the task is for the agent to learn to balance a pole for as long as possible by moving a cart *left* or *right*.\n",
        "\n",
        "<img src=\"https://miro.medium.com/max/600/1*v8KcdjfVGf39yvTpXDTCGQ.gif\" width=\"30%\" />\n",
        "\n",
        "- **State space**: The state of the environment is represented by four numbers; *angular position of the pole, angular velocity of the pole, position of the cart, velocity of the cart*.\n",
        "- **Action space**: There are only two actions; *left* and *right*. As such, the actions can be represented by integers $0$ and $1$.  \n",
        "- **Dynamics**: State transitions are deterministic and the agent receives a reward of `1` for every timestep the pole is still upright. If the pole falls over, the game is over and the agent receives no more reward. The game is also over after `500` timesteps, so the maximum reward the agent can collect is `500`.\n",
        "\n",
        "In CartPole, the environment is considered solved when the agent can reliably achieve an episode return of 500."
      ],
      "metadata": {
        "id": "ioser_R5TOtp"
      }
    },
    {
      "cell_type": "code",
      "source": [
        "# Create the environment\n",
        "env_name = \"CartPole-v1\"  # \"LunarLander-v2\" (for later...)\n",
        "env = gym.make(env_name)\n",
        "\n",
        "# Reset the environment\n",
        "s_0 = env.reset()\n",
        "print(\"Initial State::\", s_0)\n",
        "\n",
        "# Get environment obs space\n",
        "obs_shape = env.observation_space.shape\n",
        "print(\"Environment Obs Space Shape:\", obs_shape)\n",
        "\n",
        "# Get action space - e.g. discrete or continuous\n",
        "print(f\"Environment action space: {env.action_space}\")\n",
        "\n",
        "# Get num actions\n",
        "num_actions = env.action_space.n\n",
        "print(f\"Number of actions: {num_actions}\")"
      ],
      "metadata": {
        "id": "OJge4jtY9pkz",
        "colab": {
          "base_uri": "https://localhost:8080/"
        },
        "outputId": "0daacc31-f065-4d43-fda6-14ff4e31bd81"
      },
      "execution_count": null,
      "outputs": [
        {
          "output_type": "stream",
          "name": "stdout",
          "text": [
            "Initial State:: [ 0.02881543  0.00703179 -0.01305268  0.01739682]\n",
            "Environment Obs Space Shape: (4,)\n",
            "Environment action space: Discrete(2)\n",
            "Number of actions: 2\n"
          ]
        }
      ]
    },
    {
      "cell_type": "markdown",
      "metadata": {
        "id": "D_HHzFTOc-Qr"
      },
      "source": [
        "## **Q-Learning**"
      ]
    },
    {
      "cell_type": "markdown",
      "metadata": {
        "id": "lF1nOZrUSzhE"
      },
      "source": [
        "\n",
        "In Q-learning the agent learns a function that approximates the **value** of state-action pairs. By *value* we mean the return you expect to receive if you start in a particular state $S_t$, take a particular action $A_t$, and then act according to a particular policy $\\pi$ forever after. The state-action value function of policy $\\pi$ is given by\n",
        "\n",
        "$Q_\\pi(s,a)=\\mathrm{E}_{\\pi}\\left[G_t \\mid S_t=s,\\ A_t=a\\right]$.\n",
        "\n",
        "We say that the value function $Q_\\pi(s,a)$ is the **optimal** value function if the policy $\\pi$ is an optimal policy. We denote the optimal value function as follows:\n",
        "\n",
        "$Q_\\ast(s,a)=\\max \\limits_\\pi \\  \\mathrm{E}_{\\pi}\\left[G_t \\mid S_t=s,\\ A_t=a\\right]$\n",
        "\n",
        "There is an important relationship between the optimal action $a_\\ast$ in a state $s$ and the optimal state-action value function $Q_\\ast$. Namely, the optimal action $a_\\ast$ in state $s$ is equal to the action that maximises the optimal state-action value function. This relationship naturally induces an optimal policy:\n",
        "\n",
        "$\\pi_\\ast(s)=\\arg \\max \\limits_a\\ Q_\\ast(s, a)$"
      ]
    },
    {
      "cell_type": "markdown",
      "metadata": {
        "id": "H2x2tqvZSihz"
      },
      "source": [
        "### **Greedy action selection**\n",
        "\n",
        "---\n",
        "> **For you!**\n",
        ">\n",
        "> Implement a greedy action selector. This should be a function that, given a vector of Q-values, returns the action with the largest Q-value.\n",
        "---\n",
        "\n",
        "**Useful methods:**\n",
        "*   `jnp.argmax` ([docs](https://jax.readthedocs.io/en/latest/_autosummary/jax.numpy.argmax.html)) [note from above we had `import jax.numpy as jnp`]"
      ]
    },
    {
      "cell_type": "code",
      "execution_count": null,
      "metadata": {
        "id": "Nn9P1YdzTIDU"
      },
      "outputs": [],
      "source": [
        "# Implement a function takes q-values as input and returns the greedy_action\n",
        "def select_greedy_action(q_values):\n",
        "\n",
        "  # YOUR CODE\n",
        "  action = jnp.argmax(q_values)\n",
        "  # END YOUR CODE\n",
        "\n",
        "  return action"
      ]
    },
    {
      "cell_type": "code",
      "execution_count": null,
      "metadata": {
        "id": "ZBzLr_G7QKXR",
        "colab": {
          "base_uri": "https://localhost:8080/"
        },
        "outputId": "129275f9-2fa4-4532-9591-fc5df7bf59b9"
      },
      "outputs": [
        {
          "output_type": "stream",
          "name": "stdout",
          "text": [
            "Looks good!\n"
          ]
        }
      ],
      "source": [
        "# @title Check your implementation (run me) {display-mode: \"form\"}\n",
        "\n",
        "try:\n",
        "  q_values = jnp.array([1,1,3,4])\n",
        "  action = select_greedy_action(q_values)\n",
        "\n",
        "  if action != 3:\n",
        "    print(\"Oops! It seems your implementation is incorrect.\")\n",
        "  else:\n",
        "    print(\"Looks good!\")\n",
        "except Exception as e:\n",
        "  print(\"Oops! It seems you didn't implement anything?\")\n"
      ]
    },
    {
      "cell_type": "markdown",
      "metadata": {
        "id": "PFQUlqZ4ZyLp"
      },
      "source": [
        "### **Q-Network**\n",
        "In Q-learning, we parametrise the Q-function using a neural network $Q_\\phi$. We obtain a policy from the Q-network by always choosing the action with the *greatest* value:\n",
        "\n",
        "$\\hat{\\pi}_\\phi(s)=\\arg \\max \\limits_a\\ Q_{\\phi}(s, a)$\n",
        "\n",
        "We use a neural network to approximate this Q-function. The network will take an observation as input and then output a Q-value for each of the available actions. So in the case of CartPole, the output of the network will have size $2$."
      ]
    },
    {
      "cell_type": "code",
      "execution_count": null,
      "metadata": {
        "id": "9wU1soJYZyLp"
      },
      "outputs": [],
      "source": [
        "def build_network(num_actions: int, layers=[20, 20]) -> hk.Transformed:\n",
        "  \"\"\"Factory for a simple MLP network for approximating Q-values.\"\"\"\n",
        "\n",
        "  def q_network(obs):\n",
        "    network = hk.Sequential(\n",
        "        [hk.Flatten(),\n",
        "         hk.nets.MLP(layers + [num_actions])])\n",
        "    return network(obs)\n",
        "\n",
        "  return hk.without_apply_rng(hk.transform(q_network))"
      ]
    },
    {
      "cell_type": "markdown",
      "metadata": {
        "id": "sUwG-4qTS1zx"
      },
      "source": [
        "Let's initialise our Q-network and get the initial parameters."
      ]
    },
    {
      "cell_type": "code",
      "execution_count": null,
      "metadata": {
        "id": "1uvq5n2cS9lu",
        "colab": {
          "base_uri": "https://localhost:8080/"
        },
        "outputId": "a9085bf1-113b-47d4-bd0c-e9fb61dfbf24"
      },
      "outputs": [
        {
          "output_type": "stream",
          "name": "stdout",
          "text": [
            "Q-Learning params: dict_keys(['mlp/~/linear_0', 'mlp/~/linear_1', 'mlp/~/linear_2'])\n"
          ]
        }
      ],
      "source": [
        "# Initialise Q-network\n",
        "Q_NETWORK = build_network(num_actions=num_actions, layers=[20, 20]) # two actions\n",
        "\n",
        "dummy_obs = jnp.zeros((1,*obs_shape), jnp.float32) # a dummy observation like the one in CartPole\n",
        "\n",
        "random_key = jax.random.PRNGKey(42) # random key\n",
        "Q_NETWORK_PARAMS = Q_NETWORK.init(random_key, dummy_obs) # Get initial params\n",
        "\n",
        "print(\"Q-Learning params:\", Q_NETWORK_PARAMS.keys())"
      ]
    },
    {
      "cell_type": "markdown",
      "metadata": {
        "id": "vbLig3uSZyLp"
      },
      "source": [
        "### **The Bellman Equations**\n",
        "The value function can be written recursively as:\n",
        "\n",
        "$Q_{\\pi}(s, a) = \\mathbb{E}_{s^\\prime \\sim p(s^\\prime |s, a)}\\left[r + \\gamma\\underset{a^{\\prime} \\sim \\pi}{\\mathrm{E}}\\left[Q_{\\pi}\\left(s^{\\prime}, a^{\\prime}\\right)\\right]\\right]$,\n",
        "\n",
        "Intuitively, this equation says that the value of the action $a$ you took in the state $s$ is equal to the reward $r$ you expect to get, plus the value you expect to get in the next state $s'$ you land in given that you will choose your next action $a'$ with the policy $\\pi$. The Bellman equation for the optimal value function is:\n",
        "\n",
        "$Q_{*}(s, a) = \\mathbb{E}_{s^\\prime \\sim p(s^\\prime |s, a)}\\left[r +\\ \\gamma \\underset{a^{\\prime}}{\\max}\\ Q_{*}(s^{\\prime}, a^{\\prime})\\right]$\n",
        "\n",
        "Notice that instead of chosing your next action $a'$ with policy $\\pi$, we choose the action with the greatest Q-value."
      ]
    },
    {
      "cell_type": "markdown",
      "metadata": {
        "id": "DsOJi5G8ZyLp"
      },
      "source": [
        "### **The Bellman Backup**\n",
        "To learn to approximate the optimal Q-value function, we can use the right-hand side of the Bellman equation as an update rule. In other words, suppose we have a Q-network $Q_\\phi$, with parameters $\\phi$, then we can iteratively update the parameters such that\n",
        "\n",
        "$Q_\\phi(s,a)\\leftarrow r + \\gamma \\underset{a'}{\\max}\\ Q_\\phi(s', a')$.\n",
        "\n",
        "Intuitively, this says that the approximation of the Q-value of action $a$ in state $s$ should be updated such that it is closer to being equal to the reward received from the environment $r$ plus the value of the best possible action in the next state $s'$. We can perform this optimisation by minimising the difference between the left and right-hand side, with respect to the parameters $\\phi$ using gradient descent. We can measure the difference between the two values using the [squared-error](https://en.wikipedia.org/wiki/Mean_squared_error#Loss_function).\n",
        "\n",
        "---\n",
        "> **For you!**\n",
        ">\n",
        "> Implement the squared-error function.\n",
        "---\n",
        "\n",
        "**Useful functions**\n",
        "* `jnp.square` ([docs](https://jax.readthedocs.io/en/latest/_autosummary/jax.numpy.square.html))"
      ]
    },
    {
      "cell_type": "code",
      "execution_count": null,
      "metadata": {
        "id": "PTto__ohZyLp"
      },
      "outputs": [],
      "source": [
        "def compute_squared_error(pred, target):\n",
        "  # YOUR CODE\n",
        "  squared_error = jnp.square((pred-target))\n",
        "  # END YOUR CODE\n",
        "\n",
        "  return squared_error"
      ]
    },
    {
      "cell_type": "code",
      "execution_count": null,
      "metadata": {
        "id": "wGhX8XTFVPVU",
        "colab": {
          "base_uri": "https://localhost:8080/"
        },
        "outputId": "74ec7342-1274-4e8a-aeb5-e53f7a647b81"
      },
      "outputs": [
        {
          "output_type": "stream",
          "name": "stdout",
          "text": [
            "Looks good!\n"
          ]
        }
      ],
      "source": [
        "#@title Check your implementation (run me) {display-mode: \"form\"}\n",
        "\n",
        "try:\n",
        "  result = compute_squared_error(1, 4)\n",
        "\n",
        "  if result != 9:\n",
        "    print(\"Oops! It seems your implementation is incorrect.\")\n",
        "  else:\n",
        "    print(\"Looks good!\")\n",
        "except Exception as e:\n",
        "  print(\"Oops! It seems you didn't implement anything?\")"
      ]
    },
    {
      "cell_type": "markdown",
      "metadata": {
        "id": "ycpZVkgdZyLp"
      },
      "source": [
        "\n",
        "\n",
        "---\n",
        "> **For you!**\n",
        ">\n",
        "> Implement a function that computes the **Bellman target** (right-hand side of the Bellman equation). If the episode is at the last timestep (i.e. done==1.0), then the Bellman target should be equal to the reward, with no extra value at the end.\n",
        "---\n",
        "\n",
        "**Useful functions**\n",
        "* `jnp.max` ([docs](https://jax.readthedocs.io/en/latest/_autosummary/jax.numpy.max.html))"
      ]
    },
    {
      "cell_type": "code",
      "execution_count": null,
      "metadata": {
        "id": "961_OllWZyLp"
      },
      "outputs": [],
      "source": [
        "# Bellman target\n",
        "def compute_bellman_target(reward, done, next_q_values, gamma=0.99):\n",
        "  \"\"\"A function to compute the bellman target.\n",
        "\n",
        "  Args:\n",
        "      reward: a scalar reward.\n",
        "      done: a scalar of value either 1.0 or 0.0, indicating if the transition is a terminal one.\n",
        "      next_q_values: a vector of q_values for the next state. One for each action.\n",
        "      gamma: a scalar discount value between 0 and 1.\n",
        "\n",
        "    -- IMPORTANT NOTE: you should keep the default gamma value to check your implementation\n",
        "\n",
        "  Returns:\n",
        "      A scalar equal to the bellman target.\n",
        "\n",
        "  \"\"\"\n",
        "\n",
        "  # YOUR CODE\n",
        "\n",
        "  bellman_target = jax.lax.cond(\n",
        "    done == 0.0,  # condition\n",
        "    lambda _: reward + gamma * jnp.max(next_q_values),  # if done == 0.0\n",
        "    lambda _: jnp.array(reward, dtype=jnp.float32),  # else (convert reward to float32)\n",
        "    operand=None  # no shared input required\n",
        "   )\n",
        "  return bellman_target"
      ]
    },
    {
      "cell_type": "code",
      "source": [
        "result1 = compute_bellman_target(1, 0.0, np.array([3,2], \"float32\"))\n",
        "result1"
      ],
      "metadata": {
        "id": "e0aQkYaZDK5d",
        "colab": {
          "base_uri": "https://localhost:8080/"
        },
        "outputId": "0f438e07-1a3b-4107-92e6-7f6cbc9ca230"
      },
      "execution_count": null,
      "outputs": [
        {
          "output_type": "execute_result",
          "data": {
            "text/plain": [
              "Array(3.97, dtype=float32)"
            ]
          },
          "metadata": {},
          "execution_count": 11
        }
      ]
    },
    {
      "cell_type": "code",
      "execution_count": null,
      "metadata": {
        "id": "E5RAhegOWAkC",
        "colab": {
          "base_uri": "https://localhost:8080/"
        },
        "outputId": "d47608fb-e3ff-4c73-f2a4-5013a39296d9"
      },
      "outputs": [
        {
          "output_type": "stream",
          "name": "stdout",
          "text": [
            "Looks good!\n"
          ]
        }
      ],
      "source": [
        "#@title Check your implementation (run me) {display-mode: \"form\"}\n",
        "\n",
        "try:\n",
        "  # not done\n",
        "  result1 = compute_bellman_target(1, 0.0, np.array([3,2], \"float32\"))\n",
        "\n",
        "  # done\n",
        "  result2 = compute_bellman_target(1, 1.0, np.array([3,2], \"float32\"))\n",
        "\n",
        "  if np.abs(result1 - 3.97) > 0.0001 or result2 != 1:\n",
        "    print(\"Oops! It seems your implementation is incorrect.\")\n",
        "  else:\n",
        "    print(\"Looks good!\")\n",
        "except Exception as e:\n",
        "  print(\"Oops! It seems you didn't implement anything?\")"
      ]
    },
    {
      "cell_type": "markdown",
      "metadata": {
        "id": "8sIjrHSJZyLq"
      },
      "source": [
        "We can now combine these two functions to compute the loss for Q-learning. The Q-learning loss is equal to the squared difference between the predicted Q-value of an action and its corresponding Bellman target.\n",
        "\n",
        "---\n",
        "> **For you!**\n",
        ">\n",
        "> Implement the Q-learning loss.\n",
        "---\n",
        "\n"
      ]
    },
    {
      "cell_type": "code",
      "execution_count": null,
      "metadata": {
        "id": "LJY_kpFcZyLq"
      },
      "outputs": [],
      "source": [
        "def q_learning_loss(q_values, action, reward, done, next_q_values):\n",
        "    \"\"\"Implementation of the Q-learning loss.T\n",
        "\n",
        "    Args:\n",
        "        q_values: a vector of Q-values, one for each action.\n",
        "        action: an integer, giving the action that was chosen. q_values[action] is the value of the chose action.\n",
        "        done: is a scalar that indicates if this is a terminal transition.\n",
        "        next_q_values: a vector of Q-values in the next state.\n",
        "    Returns:\n",
        "        The squared difference between the q_value of the chosen action and the bellman target.\n",
        "    \"\"\"\n",
        "    # YOUR CODE\n",
        "    chosen_action_q_value = q_values[action] # q_value of action, use array indexing\n",
        "    bellman_target        = compute_bellman_target(reward, done, next_q_values, gamma=0.99)\n",
        "    squared_error         = compute_squared_error(chosen_action_q_value, bellman_target)\n",
        "    # END YOUR CODE\n",
        "\n",
        "    return squared_error"
      ]
    },
    {
      "cell_type": "code",
      "execution_count": null,
      "metadata": {
        "id": "1aZRn1qaWx2M",
        "colab": {
          "base_uri": "https://localhost:8080/"
        },
        "outputId": "ece9be5c-3c1c-424f-c9ad-71f94504f190"
      },
      "outputs": [
        {
          "output_type": "stream",
          "name": "stdout",
          "text": [
            "8.820902\n",
            "Looks good!\n"
          ]
        }
      ],
      "source": [
        "#@title Check your implementation (run me) {display-mode: \"form\"}\n",
        "\n",
        "try:\n",
        "  result = q_learning_loss(np.array([3,2], \"float32\"), 1, 2, 0.0, np.array([3,2], \"float32\"))\n",
        "  print(result)\n",
        "\n",
        "  if np.abs(result - 8.820902) > 0.0001:\n",
        "    print(\"Oops! It seems your implementation is incorrect.\")\n",
        "  else:\n",
        "    print(\"Looks good!\")\n",
        "except Exception as e:\n",
        "  print(\"Oops! It seems you didn't implement anything?\")"
      ]
    },
    {
      "cell_type": "markdown",
      "source": [],
      "metadata": {
        "id": "p-fM4yLldCDG"
      }
    },
    {
      "cell_type": "markdown",
      "metadata": {
        "id": "b4YnSUfJZyLq"
      },
      "source": [
        "### **Target Q-network**\n",
        "Notice that when we compute the bellman target we are using our Q-network $Q_\\phi$ to compute the value for the next state $S_{t+1}$. We are basically using our latest approximation of the Q-function to compute the target of our next approximation. Using an approximation to compute the target for your next approximation, is called **bootstrapping**.\n",
        "\n",
        "Unfortunately, if we naively bootstrap like this, it can make training a neural network very unstable. To mitigage this we can instead use a different set of parameters $\\bar{\\phi}$ to compute the values at state $S_{t+1}$. We will keep the parameters $\\bar{\\phi}$ fixed and only periodically update them to be equal to the latest online parameters $\\phi$ every couple of training steps *(say 100)*. This serves to keep the bellman targets fixed for a couple training steps to help reduce the instability due to bootstrapping.\n",
        "\n",
        "\n",
        "We will need to keep track of the latest (online) parameters $\\phi$, as well as the target networks parameters $\\bar{\\phi}$. Lets make a `NamedTuple` to store these two values. We will also need to keep track of the number of learner steps we have taken, so that we know when to update the target network. Lets store a `count` of the learn steps in the `learn_state`."
      ]
    },
    {
      "cell_type": "code",
      "execution_count": null,
      "metadata": {
        "id": "DvZqUKmq6L7k"
      },
      "outputs": [],
      "source": [
        "# Store online and target parameters\n",
        "QLearnParams = collections.namedtuple(\"Params\", [\"online\", \"target\"])\n",
        "\n",
        "# Q-learn-state\n",
        "QLearnState = collections.namedtuple(\"LearnerState\", [\"count\", \"optim_state\"])"
      ]
    },
    {
      "cell_type": "markdown",
      "metadata": {
        "id": "CJWH2_kNZsau"
      },
      "source": [
        "We will be using **Optax** to optimize our neural network. We store the state of the optimizer in the `learn_state` above. Lets now instantiate the optimizer and add the initial Q-network parameters to a `QLearnParams` object."
      ]
    },
    {
      "cell_type": "code",
      "execution_count": null,
      "metadata": {
        "id": "HwqKTN6BaAXE"
      },
      "outputs": [],
      "source": [
        "# Initialise Q-network optimizer\n",
        "Q_LEARN_OPTIMIZER = optax.adam(3e-4) # learning rate\n",
        "\n",
        "Q_LEARN_OPTIM_STATE = Q_LEARN_OPTIMIZER.init(Q_NETWORK_PARAMS) # initial optim state\n",
        "\n",
        "# Create Learn State\n",
        "Q_LEARNING_LEARN_STATE = QLearnState(0, Q_LEARN_OPTIM_STATE) # count set to zero initially\n",
        "\n",
        "# Add initial Q-network weights to QLearnParams object\n",
        "Q_LEARNING_PARAMS = QLearnParams(online=Q_NETWORK_PARAMS, target=Q_NETWORK_PARAMS) # target equal to online"
      ]
    },
    {
      "cell_type": "markdown",
      "metadata": {
        "id": "xj89M8LgZlFe"
      },
      "source": [
        "Now we can implement a simple function that updates the target network parameters to equal the latest online network parameters every 100 training steps."
      ]
    },
    {
      "cell_type": "code",
      "execution_count": null,
      "metadata": {
        "id": "SKrg_3rO6cCL"
      },
      "outputs": [],
      "source": [
        "def update_target_params(learn_state, online_weights, target_weights, update_frequency=100):\n",
        "  \"\"\"A function to update target params every 100 training steps\"\"\"\n",
        "\n",
        "  target = jax.lax.cond(\n",
        "      jnp.mod(learn_state.count, update_frequency) == 0,\n",
        "      lambda x, y: x,\n",
        "      lambda x, y: y,\n",
        "      online_weights,\n",
        "      target_weights\n",
        "  )\n",
        "\n",
        "  params = QLearnParams(online_weights, target)\n",
        "\n",
        "  return params"
      ]
    },
    {
      "cell_type": "markdown",
      "metadata": {
        "id": "KoiaYSo9ZyLq"
      },
      "source": [
        "### **Q-learning loss**\n",
        "We now have everything we need to implement the `q_learn` function which takes some batch of transitions and does a step of Q-learning to update the network paramters. But first we use `jax.vmap` to modify the `q_learning_loss` function so that it accepts batches of transitions. In addition, we will compute the Q-values by passing the observations through the `Q_NETWORK` and the target Q-values using the target parameters of the `Q_NETWORK`."
      ]
    },
    {
      "cell_type": "code",
      "execution_count": null,
      "metadata": {
        "id": "hnrsGppWZyLq"
      },
      "outputs": [],
      "source": [
        "def batched_q_learning_loss(online_params, target_params, obs, actions, rewards, next_obs, dones):\n",
        "    q_values = Q_NETWORK.apply(online_params, obs) # use the online parameters\n",
        "    next_q_values = Q_NETWORK.apply(target_params, next_obs) # use the target parameters\n",
        "    squared_error = jax.vmap(q_learning_loss)(q_values, actions, rewards, dones, next_q_values) # vmap q_learning_loss\n",
        "    mean_squared_error = jnp.mean(squared_error) # mean squared error over batch\n",
        "    return mean_squared_error"
      ]
    },
    {
      "cell_type": "markdown",
      "metadata": {
        "id": "CU8vo9ZebnEa"
      },
      "source": [
        "Now we can create the `q_learn` function which computes the gradient of the `batched_q_learning_loss` and then uses an Optax optimizer to update the network weights and then finally (maybe) updates the target parameters."
      ]
    },
    {
      "cell_type": "code",
      "execution_count": null,
      "metadata": {
        "id": "6BYoX2W_ZyLr"
      },
      "outputs": [],
      "source": [
        "def q_learn(rng, params, learner_state, memory):\n",
        "  # Compute gradients\n",
        "  grad_loss = jax.grad(batched_q_learning_loss)(params.online, params.target, memory.obs,\n",
        "                                          memory.action, memory.reward,\n",
        "                                          memory.next_obs, memory.done,\n",
        "                                          ) # jax.grad\n",
        "\n",
        "  # Get updates\n",
        "  updates, opt_state = Q_LEARN_OPTIMIZER.update(grad_loss, learner_state.optim_state)\n",
        "\n",
        "  # Apply them\n",
        "  new_weights = optax.apply_updates(params.online, updates)\n",
        "\n",
        "  # Maybe update target network\n",
        "  params = update_target_params(learner_state, new_weights, params.target)\n",
        "\n",
        "  # Increment learner step counter\n",
        "  learner_state = QLearnState(learner_state.count + 1, opt_state)\n",
        "\n",
        "  return params, learner_state"
      ]
    },
    {
      "cell_type": "markdown",
      "source": [
        "### **A General Purpose RL Training Loop**\n",
        "We have implemented a general purpose RL training loop for you. The training loop takes several arguments as input but the three most important for you to understand are `agent_select_action_func`, `agent_learn_func` and the `agent_memory`.\n",
        "\n",
        "* The `agent_select_action_func` should take an observation and set of `agent_params` as input and should return an action.\n",
        "* The `agent_learn_func` should take the agent's parameters and some \"memories\" as input and then update and return the agents new parameters.\n",
        "* The `agent_memory` is a general purpose module we define that can store some relevant information about the agent's experiences in the environment that can be used in the `agent_learn_func`.\n",
        "\n",
        "Below is the training loop function. You are welcome to go through the code and try to understand it but this is not strictly required."
      ],
      "metadata": {
        "id": "Jg9WeeChVYzG"
      }
    },
    {
      "cell_type": "code",
      "source": [
        "#@title Training loop (run me) { display-mode: \"form\" }\n",
        "\n",
        "# NamedTuple to store transitions\n",
        "Transition = collections.namedtuple(\"Transition\", [\"obs\", \"action\", \"reward\", \"next_obs\", \"done\"])\n",
        "\n",
        "# Training Loop\n",
        "def run_training_loop(env_name, agent_params, agent_select_action_func,\n",
        "    agent_actor_state=None, agent_learn_func=None, agent_learner_state=None,\n",
        "    agent_memory=None, num_episodes=1000, evaluator_period=10,\n",
        "    evaluation_episodes=8, learn_steps_per_episode=1,\n",
        "    train_every_timestep=False, video_subdir=\"\",):\n",
        "    \"\"\"\n",
        "    This function runs several episodes in an environment and periodically does\n",
        "    some agent learning and evaluation.\n",
        "\n",
        "    Args:\n",
        "        env: a gym environment.\n",
        "        agent_params: an object to store parameters that the agent uses.\n",
        "        agent_select_func: a function that does action selection for the agent.\n",
        "        agent_actor_state (optional): an object that stores the internal state\n",
        "            of the agents action selection function.\n",
        "        agent_learn_func (optional): a function that does some learning for the\n",
        "            agent by updating the agent parameters.\n",
        "        agent_learn_state (optional): an object that stores the internal state\n",
        "            of the agent learn function.\n",
        "        agent_memory (optional): an object for storing an retrieving historical\n",
        "            experience.\n",
        "        num_episodes: how many episodes to run.\n",
        "        evaluator_period: how often to run evaluation.\n",
        "        evaluation_episodes: how many evaluation episodes to run.\n",
        "        train_every_timestep: whether to train every timestep rather than at the end\n",
        "            of the episode.\n",
        "        video_subdir: subdirectory to store epsiode recordings.\n",
        "\n",
        "    Returns:\n",
        "        episode_returns: list of all the episode returns.\n",
        "        evaluator_episode_returns: list of all the evaluator episode returns.\n",
        "    \"\"\"\n",
        "\n",
        "    # Setup Cartpole environment and recorder\n",
        "    env = gym.make(env_name, render_mode=\"rgb_array\") # training environment\n",
        "    eval_env = gym.make(env_name, render_mode=\"rgb_array\") # evaluation environment\n",
        "\n",
        "    # Video dir\n",
        "    video_dir = \"./video\"+\"/\"+video_subdir\n",
        "\n",
        "    # Clear video dir\n",
        "    try:\n",
        "      rmtree(video_dir)\n",
        "    except:\n",
        "      pass\n",
        "\n",
        "    # Wrap in recorder\n",
        "    env = RecordVideo(env, video_dir+\"/train\", episode_trigger=lambda x: (x % evaluator_period) == 0)\n",
        "    eval_env = RecordVideo(eval_env, video_dir+\"/eval\", episode_trigger=lambda x: (x % evaluation_episodes) == 0)\n",
        "\n",
        "    # JAX random number generator\n",
        "    rng = hk.PRNGSequence(jax.random.PRNGKey(0))\n",
        "    # env.seed(0) # seed environment for reproducability\n",
        "    random.seed(0)\n",
        "\n",
        "    episode_returns = [] # List to store history of episode returns.\n",
        "    evaluator_episode_returns = [] # List to store history of evaluator returns.\n",
        "    timesteps = 0\n",
        "    for episode in range(num_episodes):\n",
        "\n",
        "        # Reset environment.\n",
        "        obs = env.reset()\n",
        "        episode_return = 0\n",
        "        done = False\n",
        "\n",
        "        while not done:\n",
        "\n",
        "            # Agent select action.\n",
        "            action, agent_actor_state = agent_select_action_func(\n",
        "                                            next(rng),\n",
        "                                            agent_params,\n",
        "                                            agent_actor_state,\n",
        "                                            np.array(obs)\n",
        "                                        )\n",
        "\n",
        "            # Step environment.\n",
        "            next_obs, reward, done, _ = env.step(int(action))\n",
        "\n",
        "            # Pack into transition.\n",
        "            transition = Transition(obs, action, reward, next_obs, done)\n",
        "\n",
        "            # Add transition to memory.\n",
        "            if agent_memory: # check if agent has memory\n",
        "              agent_memory.push(transition)\n",
        "\n",
        "            # Add reward to episode return.\n",
        "            episode_return += reward\n",
        "\n",
        "            # Set obs to next obs before next environment step. CRITICAL!!!\n",
        "            obs = next_obs\n",
        "\n",
        "            # Increment timestep counter\n",
        "            timesteps += 1\n",
        "\n",
        "            # Maybe learn every timestep\n",
        "            if train_every_timestep and (timesteps % 4 == 0) and agent_memory and agent_memory.is_ready(): # Make sure memory is ready\n",
        "                # First sample memory and then pass the result to the learn function\n",
        "                memory = agent_memory.sample()\n",
        "                agent_params, agent_learner_state = agent_learn_func(\n",
        "                                                        next(rng),\n",
        "                                                        agent_params,\n",
        "                                                        agent_learner_state,\n",
        "                                                        memory\n",
        "                                                    )\n",
        "\n",
        "        episode_returns.append(episode_return)\n",
        "\n",
        "        # At the end of every episode we do a learn step.\n",
        "        if agent_memory and agent_memory.is_ready(): # Make sure memory is ready\n",
        "\n",
        "            for _ in range(learn_steps_per_episode):\n",
        "                # First sample memory and then pass the result to the learn function\n",
        "                memory = agent_memory.sample()\n",
        "                agent_params, agent_learner_state = agent_learn_func(\n",
        "                                                        next(rng),\n",
        "                                                        agent_params,\n",
        "                                                        agent_learner_state,\n",
        "                                                        memory\n",
        "                                                    )\n",
        "\n",
        "        if (episode % evaluator_period) == 0: # Do evaluation\n",
        "\n",
        "            evaluator_episode_return = 0\n",
        "            for eval_episode in range(evaluation_episodes):\n",
        "                obs = eval_env.reset()\n",
        "                done = False\n",
        "                while not done:\n",
        "                    action, _ = agent_select_action_func(\n",
        "                                    next(rng),\n",
        "                                    agent_params,\n",
        "                                    agent_actor_state,\n",
        "                                    np.array(obs),\n",
        "                                    evaluation=True\n",
        "                                )\n",
        "\n",
        "                    obs, reward, done, _ = eval_env.step(int(action))\n",
        "\n",
        "                    evaluator_episode_return += reward\n",
        "\n",
        "            evaluator_episode_return /= evaluation_episodes\n",
        "\n",
        "            evaluator_episode_returns.append(evaluator_episode_return)\n",
        "\n",
        "            logs = [\n",
        "                    f\"Episode: {episode}\",\n",
        "                    f\"Epsilon: {get_epsilon(timesteps)}\",\n",
        "                    f\"Episode Return: {episode_return}\",\n",
        "                    f\"Average Episode Return: {np.mean(episode_returns[-20:])}\",\n",
        "                    f\"Evaluator Episode Return: {evaluator_episode_return}\"\n",
        "            ]\n",
        "\n",
        "            print(*logs, sep=\"\\t\") # Print the logs\n",
        "\n",
        "    env.close()\n",
        "    eval_env.close()\n",
        "\n",
        "    return episode_returns, evaluator_episode_returns"
      ],
      "metadata": {
        "id": "4jra0ykU-GLN"
      },
      "execution_count": null,
      "outputs": []
    },
    {
      "cell_type": "code",
      "source": [],
      "metadata": {
        "id": "SuLTVjZQaIGT"
      },
      "execution_count": null,
      "outputs": []
    },
    {
      "cell_type": "markdown",
      "metadata": {
        "id": "VpZsKHssZyLq"
      },
      "source": [
        "### **Replay Buffer**\n",
        "For Q-learning, we will need an agent memory that stores entire transitions: `obs`, `action`, `reward`, `next_obs`, `done`. When we retrieve transitions from the memory, they should be chosen randomly from all of the transitions collected so far. In RL, we often call such a module a **replay buffer**. One benefit of using a replay buffer is that experiences can be *re-used* several times for training."
      ]
    },
    {
      "cell_type": "code",
      "execution_count": null,
      "metadata": {
        "id": "8tv5dUH6ZyLr"
      },
      "outputs": [],
      "source": [
        "class TransitionMemory(object):\n",
        "  \"\"\"A simple Python replay buffer.\"\"\"\n",
        "\n",
        "  def __init__(self, max_size=10_000, batch_size=256):\n",
        "    self.batch_size = batch_size\n",
        "    self.buffer = collections.deque(maxlen = max_size)\n",
        "\n",
        "  def push(self, transition):\n",
        "    # add transition to the replay buffer\n",
        "    self.buffer.append(\n",
        "        (transition.obs, transition.action, transition.reward,\n",
        "          transition.next_obs, transition.done)\n",
        "          )\n",
        "\n",
        "  def is_ready(self):\n",
        "    return self.batch_size <= len(self.buffer)\n",
        "\n",
        "  def sample(self):\n",
        "    # Randomly sample a batch of transitions from the buffer\n",
        "    random_replay_sample = random.sample(self.buffer, self.batch_size)\n",
        "\n",
        "    # Batch the transitions together\n",
        "    obs_batch, action_batch, reward_batch, next_obs_batch, done_batch = zip(*random_replay_sample)\n",
        "\n",
        "    return Transition(\n",
        "        np.stack(obs_batch).astype(\"float32\"),\n",
        "        np.asarray(action_batch).astype(\"int32\"),\n",
        "        np.asarray(reward_batch).astype(\"float32\"),\n",
        "        np.stack(next_obs_batch).astype(\"float32\"),\n",
        "        np.asarray(done_batch).astype(\"float32\")\n",
        "                      )\n",
        "\n",
        "# Instantiate the memory\n",
        "Q_LEARNING_MEMORY = TransitionMemory(max_size=10_000, batch_size=512)"
      ]
    },
    {
      "cell_type": "markdown",
      "metadata": {
        "id": "XbHk03VVUHAV"
      },
      "source": [
        "### **Random exploration**\n",
        "We almost have everything we need for a functioning Q-learning agent. But one problem is that if we always choose the action with the highest Q-value then the agent's policy will be completly *deterministic*. This means the agent will always choose the same strategy. This can pose a problem because at the start of training, the Q-network will be very inaccurate (i.e. a bad aproximation of the true Q-function) and the agent will consistently choose suboptimal actions. Moreover, the agent will never deviate from its suboptimal strategy and discover new, potentially more rewarding  actions. As a result, the Q-network remains inaccurate. Ideally, the agent should try out many different strategies in the beginning so that it can observe the outcomes (rewards) of its actions in different states and so improve its approximation of the Q-function.\n",
        "\n",
        "One easy way to ensure that the agent tries out many different actions is to let it choose some random actions, instead of the greedy (best) action all the time.\n",
        "\n",
        "---\n",
        "> **For you!**\n",
        ">\n",
        "> Implement a random action selector! This should be a function that, given the number of possible (discrete) actions, returns a random action.\n",
        "---\n",
        "\n",
        "\n",
        "\n",
        "**Useful methods:**\n",
        "\n",
        "*  `jax.random.randint` ([docs](https://jax.readthedocs.io/en/latest/_autosummary/jax.random.randint.html))"
      ]
    },
    {
      "cell_type": "code",
      "source": [
        "# key = jax.random.PRNGKey(6) # random key\n",
        "# num_actions = 8\n",
        "# jax.random.randint(key = key,shape= (), minval = 0, maxval=num_actions)"
      ],
      "metadata": {
        "id": "aAf21xsWevs8"
      },
      "execution_count": null,
      "outputs": []
    },
    {
      "cell_type": "code",
      "execution_count": null,
      "metadata": {
        "id": "uUKkpMLXUtko"
      },
      "outputs": [],
      "source": [
        "def select_random_action(key, num_actions):\n",
        "\n",
        "    # YOUR CODE\n",
        "    action = jax.random.randint(key = key,shape= (), minval = 0, maxval = num_actions)\n",
        "    # END YOUR CODE\n",
        "\n",
        "    return action"
      ]
    },
    {
      "cell_type": "code",
      "execution_count": null,
      "metadata": {
        "id": "NO6va6S2Y40E",
        "colab": {
          "base_uri": "https://localhost:8080/"
        },
        "outputId": "8ca5977d-a37b-40f8-d077-204d717af21c"
      },
      "outputs": [
        {
          "output_type": "stream",
          "name": "stdout",
          "text": [
            "Looks good! 1 0\n"
          ]
        }
      ],
      "source": [
        "#@title Check your implementation (run me) {display-mode: \"form\"}\n",
        "\n",
        "try:\n",
        "  random_key1 = random_key = jax.random.PRNGKey(6) # random key\n",
        "  random_key2 = random_key = jax.random.PRNGKey(1000) # random key\n",
        "  result1 = select_random_action(random_key1, 2)\n",
        "  result2 = select_random_action(random_key2, 2)\n",
        "\n",
        "  if result1 != 1 or result2 != 0:\n",
        "    print(\"Oops! It seems your implementation is incorrect.\")\n",
        "  else:\n",
        "    print(\"Looks good!\", result1,result2)\n",
        "except:\n",
        "  print(\"Oops! It seems your implementation is incorrect.\")"
      ]
    },
    {
      "cell_type": "markdown",
      "metadata": {
        "id": "8-kKDFT6XU6y"
      },
      "source": [
        "### **$\\varepsilon$-greedy action selection**\n",
        "At the start of training, when the accuracy of the Q-network is low, it is worthwhile for the agent to mostly take random actions so that it can learn about how good or bad certain actions are. However, as the accuracy of the Q-network improves, the agent should start taking fewer random actions and instead start choosing greedy actions with respect to the Q-values. Choosing the best actions given the current Q-network is referred to as **exploitation**. In RL, we typically denote the ratio of random to greedy actions by the value **epsilon** $\\varepsilon$. Epsilon is usually a decimal value in the interval $[0,1]$, where for example $\\varepsilon=0.4$ means that the agent chooses a random action 40% of the time and the greedy action 60% of the time. It is common in RL to linearly (or exponentially) decrease the value of epsilon over time so that the agent becomes increasingly greedy as the accuracy of its Q-network improves through learning.\n",
        "\n",
        "\n",
        "\n",
        "---\n",
        "> **For you!**\n",
        ">\n",
        "> Implement an $\\varepsilon$ decay schedule. This function should take the number of timesteps as input and return the current epsilon value.\n",
        "---\n"
      ]
    },
    {
      "cell_type": "code",
      "execution_count": null,
      "metadata": {
        "id": "_qejnbCocurG"
      },
      "outputs": [],
      "source": [
        "EPSILON_DECAY_TIMESTEPS = 3000 # decay epsilon over 3000 timesteps\n",
        "EPSILON_MIN = 0.1 # 10% exploration"
      ]
    },
    {
      "cell_type": "code",
      "execution_count": null,
      "metadata": {
        "id": "5ujSbssCZyLs"
      },
      "outputs": [],
      "source": [
        "def get_epsilon(num_timesteps):\n",
        "  # YOUR CODE\n",
        "  epsilon = 1 - num_timesteps/EPSILON_DECAY_TIMESTEPS # decay epsilon\n",
        "\n",
        "  epsilon = jax.lax.select(\n",
        "      epsilon < EPSILON_MIN,\n",
        "      EPSILON_MIN, # if less than min then set to min\n",
        "      epsilon # else don't change epsilon\n",
        "  )\n",
        "  # END YOUR CODE\n",
        "\n",
        "  return epsilon"
      ]
    },
    {
      "cell_type": "code",
      "source": [
        "epsilon = 1 -10/EPSILON_DECAY_TIMESTEPS # decay epsilon\n",
        "epsilon"
      ],
      "metadata": {
        "id": "zRp0FN_Wi9hF",
        "colab": {
          "base_uri": "https://localhost:8080/"
        },
        "outputId": "42230604-fd4d-4754-ceb9-6f630040bf9a"
      },
      "execution_count": null,
      "outputs": [
        {
          "output_type": "execute_result",
          "data": {
            "text/plain": [
              "0.9966666666666667"
            ]
          },
          "metadata": {},
          "execution_count": 27
        }
      ]
    },
    {
      "cell_type": "code",
      "execution_count": null,
      "metadata": {
        "id": "hvu4zA64aUou",
        "colab": {
          "base_uri": "https://localhost:8080/"
        },
        "outputId": "bcf3d672-baff-4733-f203-38d30a94de91"
      },
      "outputs": [
        {
          "output_type": "stream",
          "name": "stdout",
          "text": [
            "Looks good!\n"
          ]
        }
      ],
      "source": [
        "#@title Check your implementation (run me) {display-mode: \"form\"}\n",
        "def check_get_epsilon(get_epsilon):\n",
        "  try:\n",
        "    result1 = get_epsilon(10)\n",
        "    result2 = get_epsilon(5_010)\n",
        "\n",
        "    if result1 != 0.99666667 or result2 != 0.1:\n",
        "      print(\"Oops! It seems your implementation is incorrect.\")\n",
        "    else:\n",
        "      print(\"Looks good!\")\n",
        "  except:\n",
        "    print(\"Oops! It seems your implementation is incorrect.\")\n",
        "\n",
        "check_get_epsilon(get_epsilon)\n"
      ]
    },
    {
      "cell_type": "markdown",
      "metadata": {
        "id": "t56oo58TVQ_s"
      },
      "source": [
        "---\n",
        "> **For you!**\n",
        ">\n",
        "> Implement an $\\varepsilon$-greedy action selector incorporating the schedule from above.\n",
        "---"
      ]
    },
    {
      "cell_type": "code",
      "execution_count": null,
      "metadata": {
        "id": "NlQx8K4vKUXj"
      },
      "outputs": [],
      "source": [
        "def select_epsilon_greedy_action(key, q_values, num_timesteps):\n",
        "    num_actions = len(q_values) # number of available actions\n",
        "\n",
        "    # YOUR CODE HERE\n",
        "    epsilon = get_epsilon(num_timesteps) # get epsilon value\n",
        "\n",
        "    should_explore = jax.random.uniform(key, minval=0.0, maxval=1.0) <= epsilon  # hint: a boolean expression to check if some random number is less than epsilon\n",
        "\n",
        "    action = jax.lax.select(\n",
        "        should_explore,\n",
        "        select_random_action(key, num_actions) , # if should explore\n",
        "        select_greedy_action(q_values) # if should be greedy\n",
        "    )\n",
        "    # END YOUR CODE\n",
        "\n",
        "    return action"
      ]
    },
    {
      "cell_type": "code",
      "execution_count": null,
      "metadata": {
        "id": "mkVU2a5e7P6b",
        "colab": {
          "base_uri": "https://localhost:8080/"
        },
        "outputId": "167a88a2-d58f-4017-9815-9665ab3f6e1d"
      },
      "outputs": [
        {
          "output_type": "stream",
          "name": "stdout",
          "text": [
            "Looks good!\n"
          ]
        }
      ],
      "source": [
        "#@title Check your implementation (run me) {display-mode: \"form\"}\n",
        "\n",
        "try:\n",
        "  rng = hk.PRNGSequence(jax.random.PRNGKey(42))\n",
        "  dummy_q_values = jnp.array([0,1], jnp.float32)\n",
        "  num_timesteps = 5010 # very greedy\n",
        "  actions1 = []\n",
        "  for i in range(10):\n",
        "      actions1.append(int(select_epsilon_greedy_action(next(rng), dummy_q_values, num_timesteps)))\n",
        "\n",
        "  num_timesteps = 0 # completly random\n",
        "  actions2 = []\n",
        "  for i in range(10):\n",
        "      actions2.append(int(select_epsilon_greedy_action(next(rng), dummy_q_values, num_timesteps)))\n",
        "\n",
        "  if actions1 != [1, 1, 0, 1, 1, 0, 1, 1, 1, 1] or actions2 != [0, 0, 0, 1, 1, 1, 1, 0, 0, 0]:\n",
        "    print(\"Oops! It seems your implementation is incorrect.\")\n",
        "  else:\n",
        "    print(\"Looks good!\")\n",
        "except:\n",
        "  print(\"Oops! It seems your implementation is incorrect.\")"
      ]
    },
    {
      "cell_type": "markdown",
      "metadata": {
        "id": "y5W23MnobN9x"
      },
      "source": [
        "### **Q-learning select action**\n",
        "\n",
        "We now have everything we need to make the `q_learning_select_action` function. We will use the `actor_state` to store a counter which keeps track of the current number of timesteps. We can use the counter to decrement our `epsilon` value."
      ]
    },
    {
      "cell_type": "code",
      "execution_count": null,
      "metadata": {
        "id": "81TysLc0RjM6"
      },
      "outputs": [],
      "source": [
        "# Actor state stores the current number of timesteps\n",
        "QActorState = collections.namedtuple(\"ActorState\", [\"count\"])\n",
        "\n",
        "def q_learning_select_action(key, params, actor_state, obs, evaluation=False):\n",
        "    obs = jnp.expand_dims(obs, axis=0) # add dummy batch dim\n",
        "    q_values = Q_NETWORK.apply(params.online, obs)[0] # remove batch dim\n",
        "\n",
        "    action = select_epsilon_greedy_action(key, q_values, actor_state.count)\n",
        "    greedy_action = select_greedy_action(q_values)\n",
        "\n",
        "    action = jax.lax.select(\n",
        "        evaluation,\n",
        "        greedy_action,\n",
        "        action\n",
        "    )\n",
        "\n",
        "    next_actor_state = QActorState(actor_state.count + 1) # increment timestep counter\n",
        "\n",
        "    return action, next_actor_state\n",
        "\n",
        "Q_LEARNING_ACTOR_STATE = QActorState(0) # counter set to zero"
      ]
    },
    {
      "cell_type": "markdown",
      "source": [
        " <font color=\"red\"><big> **Comment**:\n",
        " - looks all good ✅"
      ],
      "metadata": {
        "id": "GGy6bfI4dE0E"
      }
    },
    {
      "cell_type": "markdown",
      "metadata": {
        "id": "z884-1oNRGEr"
      },
      "source": [
        "### **Training**\n",
        "We can now put everything together using the agent-environment loop. We also `jit` the select action function and the learn function for some extra speed!"
      ]
    },
    {
      "cell_type": "code",
      "source": [
        "# Jit functions\n",
        "q_learning_select_action_jit = jax.jit(q_learning_select_action)\n",
        "q_learn_jit = jax.jit(q_learn)"
      ],
      "metadata": {
        "id": "OHBQzg1GcCOs"
      },
      "execution_count": null,
      "outputs": []
    },
    {
      "cell_type": "code",
      "execution_count": null,
      "metadata": {
        "id": "xbdHDbd1RjM8",
        "colab": {
          "base_uri": "https://localhost:8080/",
          "height": 1000
        },
        "outputId": "a02298e9-49c5-4297-9709-2650787244ea"
      },
      "outputs": [
        {
          "output_type": "stream",
          "name": "stdout",
          "text": [
            "Starting training. This may take a few minutes to complete.\n",
            "Episode: 0\tEpsilon: 0.9953333139419556\tEpisode Return: 14.0\tAverage Episode Return: 14.0\tEvaluator Episode Return: 9.5\n",
            "Episode: 10\tEpsilon: 0.9259999990463257\tEpisode Return: 20.0\tAverage Episode Return: 20.181818181818183\tEvaluator Episode Return: 10.125\n",
            "Episode: 20\tEpsilon: 0.8486666679382324\tEpisode Return: 11.0\tAverage Episode Return: 22.0\tEvaluator Episode Return: 9.25\n",
            "Episode: 30\tEpsilon: 0.7956666946411133\tEpisode Return: 18.0\tAverage Episode Return: 19.55\tEvaluator Episode Return: 9.875\n",
            "Episode: 40\tEpsilon: 0.7406666874885559\tEpisode Return: 27.0\tAverage Episode Return: 16.2\tEvaluator Episode Return: 9.375\n",
            "Episode: 50\tEpsilon: 0.6919999718666077\tEpisode Return: 18.0\tAverage Episode Return: 15.55\tEvaluator Episode Return: 9.375\n",
            "Episode: 60\tEpsilon: 0.652999997138977\tEpisode Return: 10.0\tAverage Episode Return: 13.15\tEvaluator Episode Return: 9.5\n",
            "Episode: 70\tEpsilon: 0.6053333282470703\tEpisode Return: 21.0\tAverage Episode Return: 13.0\tEvaluator Episode Return: 9.125\n",
            "Episode: 80\tEpsilon: 0.562333345413208\tEpisode Return: 10.0\tAverage Episode Return: 13.6\tEvaluator Episode Return: 9.375\n",
            "Episode: 90\tEpsilon: 0.5180000066757202\tEpisode Return: 11.0\tAverage Episode Return: 13.1\tEvaluator Episode Return: 9.75\n",
            "Episode: 100\tEpsilon: 0.46399998664855957\tEpisode Return: 23.0\tAverage Episode Return: 14.75\tEvaluator Episode Return: 9.375\n",
            "Episode: 110\tEpsilon: 0.4230000078678131\tEpisode Return: 11.0\tAverage Episode Return: 14.25\tEvaluator Episode Return: 9.625\n",
            "Episode: 120\tEpsilon: 0.3763333261013031\tEpisode Return: 9.0\tAverage Episode Return: 13.15\tEvaluator Episode Return: 9.625\n",
            "Episode: 130\tEpsilon: 0.33799999952316284\tEpisode Return: 11.0\tAverage Episode Return: 12.75\tEvaluator Episode Return: 9.5\n",
            "Episode: 140\tEpsilon: 0.2996666729450226\tEpisode Return: 16.0\tAverage Episode Return: 11.5\tEvaluator Episode Return: 9.5\n",
            "Episode: 150\tEpsilon: 0.2619999945163727\tEpisode Return: 13.0\tAverage Episode Return: 11.4\tEvaluator Episode Return: 9.5\n",
            "Episode: 160\tEpsilon: 0.22499999403953552\tEpisode Return: 9.0\tAverage Episode Return: 11.2\tEvaluator Episode Return: 9.5\n",
            "Episode: 170\tEpsilon: 0.1926666647195816\tEpisode Return: 12.0\tAverage Episode Return: 10.4\tEvaluator Episode Return: 9.5\n",
            "Episode: 180\tEpsilon: 0.15833333134651184\tEpisode Return: 11.0\tAverage Episode Return: 10.0\tEvaluator Episode Return: 8.875\n",
            "Episode: 190\tEpsilon: 0.12566666305065155\tEpisode Return: 11.0\tAverage Episode Return: 10.05\tEvaluator Episode Return: 8.875\n",
            "Episode: 200\tEpsilon: 0.10000000149011612\tEpisode Return: 10.0\tAverage Episode Return: 9.85\tEvaluator Episode Return: 9.5\n",
            "Episode: 210\tEpsilon: 0.10000000149011612\tEpisode Return: 8.0\tAverage Episode Return: 9.8\tEvaluator Episode Return: 9.125\n",
            "Episode: 220\tEpsilon: 0.10000000149011612\tEpisode Return: 9.0\tAverage Episode Return: 10.1\tEvaluator Episode Return: 9.375\n",
            "Episode: 230\tEpsilon: 0.10000000149011612\tEpisode Return: 10.0\tAverage Episode Return: 10.2\tEvaluator Episode Return: 9.625\n",
            "Episode: 240\tEpsilon: 0.10000000149011612\tEpisode Return: 10.0\tAverage Episode Return: 10.4\tEvaluator Episode Return: 9.875\n",
            "Episode: 250\tEpsilon: 0.10000000149011612\tEpisode Return: 11.0\tAverage Episode Return: 10.85\tEvaluator Episode Return: 9.0\n",
            "Episode: 260\tEpsilon: 0.10000000149011612\tEpisode Return: 11.0\tAverage Episode Return: 10.55\tEvaluator Episode Return: 10.875\n",
            "Episode: 270\tEpsilon: 0.10000000149011612\tEpisode Return: 9.0\tAverage Episode Return: 10.3\tEvaluator Episode Return: 9.75\n",
            "Episode: 280\tEpsilon: 0.10000000149011612\tEpisode Return: 10.0\tAverage Episode Return: 10.15\tEvaluator Episode Return: 9.0\n",
            "Episode: 290\tEpsilon: 0.10000000149011612\tEpisode Return: 12.0\tAverage Episode Return: 9.95\tEvaluator Episode Return: 9.875\n",
            "Episode: 300\tEpsilon: 0.10000000149011612\tEpisode Return: 10.0\tAverage Episode Return: 9.95\tEvaluator Episode Return: 9.625\n",
            "Episode: 310\tEpsilon: 0.10000000149011612\tEpisode Return: 10.0\tAverage Episode Return: 9.85\tEvaluator Episode Return: 10.0\n",
            "Episode: 320\tEpsilon: 0.10000000149011612\tEpisode Return: 12.0\tAverage Episode Return: 10.1\tEvaluator Episode Return: 10.875\n",
            "Episode: 330\tEpsilon: 0.10000000149011612\tEpisode Return: 11.0\tAverage Episode Return: 10.6\tEvaluator Episode Return: 9.25\n",
            "Episode: 340\tEpsilon: 0.10000000149011612\tEpisode Return: 11.0\tAverage Episode Return: 10.5\tEvaluator Episode Return: 11.625\n",
            "Episode: 350\tEpsilon: 0.10000000149011612\tEpisode Return: 13.0\tAverage Episode Return: 11.05\tEvaluator Episode Return: 11.0\n",
            "Episode: 360\tEpsilon: 0.10000000149011612\tEpisode Return: 9.0\tAverage Episode Return: 11.1\tEvaluator Episode Return: 8.875\n",
            "Episode: 370\tEpsilon: 0.10000000149011612\tEpisode Return: 15.0\tAverage Episode Return: 10.8\tEvaluator Episode Return: 21.5\n",
            "Episode: 380\tEpsilon: 0.10000000149011612\tEpisode Return: 13.0\tAverage Episode Return: 11.3\tEvaluator Episode Return: 9.0\n",
            "Episode: 390\tEpsilon: 0.10000000149011612\tEpisode Return: 13.0\tAverage Episode Return: 10.8\tEvaluator Episode Return: 9.375\n",
            "Episode: 400\tEpsilon: 0.10000000149011612\tEpisode Return: 9.0\tAverage Episode Return: 9.8\tEvaluator Episode Return: 10.875\n",
            "Episode: 410\tEpsilon: 0.10000000149011612\tEpisode Return: 9.0\tAverage Episode Return: 10.25\tEvaluator Episode Return: 9.25\n",
            "Episode: 420\tEpsilon: 0.10000000149011612\tEpisode Return: 13.0\tAverage Episode Return: 11.0\tEvaluator Episode Return: 28.375\n",
            "Episode: 430\tEpsilon: 0.10000000149011612\tEpisode Return: 11.0\tAverage Episode Return: 14.35\tEvaluator Episode Return: 9.25\n",
            "Episode: 440\tEpsilon: 0.10000000149011612\tEpisode Return: 10.0\tAverage Episode Return: 13.55\tEvaluator Episode Return: 27.75\n",
            "Episode: 450\tEpsilon: 0.10000000149011612\tEpisode Return: 43.0\tAverage Episode Return: 21.7\tEvaluator Episode Return: 37.25\n",
            "Episode: 460\tEpsilon: 0.10000000149011612\tEpisode Return: 22.0\tAverage Episode Return: 32.85\tEvaluator Episode Return: 45.25\n",
            "Episode: 470\tEpsilon: 0.10000000149011612\tEpisode Return: 28.0\tAverage Episode Return: 31.85\tEvaluator Episode Return: 40.75\n",
            "Episode: 480\tEpsilon: 0.10000000149011612\tEpisode Return: 67.0\tAverage Episode Return: 36.25\tEvaluator Episode Return: 54.75\n",
            "Episode: 490\tEpsilon: 0.10000000149011612\tEpisode Return: 30.0\tAverage Episode Return: 35.05\tEvaluator Episode Return: 39.75\n",
            "Episode: 500\tEpsilon: 0.10000000149011612\tEpisode Return: 93.0\tAverage Episode Return: 37.45\tEvaluator Episode Return: 53.375\n",
            "Episode: 510\tEpsilon: 0.10000000149011612\tEpisode Return: 38.0\tAverage Episode Return: 43.75\tEvaluator Episode Return: 45.625\n",
            "Episode: 520\tEpsilon: 0.10000000149011612\tEpisode Return: 52.0\tAverage Episode Return: 47.15\tEvaluator Episode Return: 47.5\n",
            "Episode: 530\tEpsilon: 0.10000000149011612\tEpisode Return: 63.0\tAverage Episode Return: 53.5\tEvaluator Episode Return: 81.25\n",
            "Episode: 540\tEpsilon: 0.10000000149011612\tEpisode Return: 46.0\tAverage Episode Return: 59.2\tEvaluator Episode Return: 72.625\n",
            "Episode: 550\tEpsilon: 0.10000000149011612\tEpisode Return: 179.0\tAverage Episode Return: 87.7\tEvaluator Episode Return: 97.0\n",
            "Episode: 560\tEpsilon: 0.10000000149011612\tEpisode Return: 89.0\tAverage Episode Return: 113.05\tEvaluator Episode Return: 334.875\n",
            "Episode: 570\tEpsilon: 0.10000000149011612\tEpisode Return: 82.0\tAverage Episode Return: 109.05\tEvaluator Episode Return: 278.625\n",
            "Episode: 580\tEpsilon: 0.10000000149011612\tEpisode Return: 297.0\tAverage Episode Return: 130.15\tEvaluator Episode Return: 205.25\n",
            "Episode: 590\tEpsilon: 0.10000000149011612\tEpisode Return: 124.0\tAverage Episode Return: 156.55\tEvaluator Episode Return: 97.875\n",
            "Episode: 600\tEpsilon: 0.10000000149011612\tEpisode Return: 297.0\tAverage Episode Return: 139.75\tEvaluator Episode Return: 225.375\n",
            "Episode: 610\tEpsilon: 0.10000000149011612\tEpisode Return: 429.0\tAverage Episode Return: 150.6\tEvaluator Episode Return: 392.125\n",
            "Episode: 620\tEpsilon: 0.10000000149011612\tEpisode Return: 204.0\tAverage Episode Return: 206.2\tEvaluator Episode Return: 254.125\n",
            "Episode: 630\tEpsilon: 0.10000000149011612\tEpisode Return: 106.0\tAverage Episode Return: 204.05\tEvaluator Episode Return: 114.125\n",
            "Episode: 640\tEpsilon: 0.10000000149011612\tEpisode Return: 68.0\tAverage Episode Return: 150.7\tEvaluator Episode Return: 245.0\n",
            "Episode: 650\tEpsilon: 0.10000000149011612\tEpisode Return: 59.0\tAverage Episode Return: 114.05\tEvaluator Episode Return: 83.75\n",
            "Episode: 660\tEpsilon: 0.10000000149011612\tEpisode Return: 108.0\tAverage Episode Return: 96.3\tEvaluator Episode Return: 137.25\n",
            "Episode: 670\tEpsilon: 0.10000000149011612\tEpisode Return: 73.0\tAverage Episode Return: 96.5\tEvaluator Episode Return: 84.375\n",
            "Episode: 680\tEpsilon: 0.10000000149011612\tEpisode Return: 69.0\tAverage Episode Return: 84.95\tEvaluator Episode Return: 89.375\n",
            "Episode: 690\tEpsilon: 0.10000000149011612\tEpisode Return: 90.0\tAverage Episode Return: 77.5\tEvaluator Episode Return: 109.5\n",
            "Episode: 700\tEpsilon: 0.10000000149011612\tEpisode Return: 71.0\tAverage Episode Return: 95.3\tEvaluator Episode Return: 99.0\n",
            "Episode: 710\tEpsilon: 0.10000000149011612\tEpisode Return: 63.0\tAverage Episode Return: 88.55\tEvaluator Episode Return: 80.125\n",
            "Episode: 720\tEpsilon: 0.10000000149011612\tEpisode Return: 63.0\tAverage Episode Return: 74.85\tEvaluator Episode Return: 169.375\n",
            "Episode: 730\tEpsilon: 0.10000000149011612\tEpisode Return: 74.0\tAverage Episode Return: 100.25\tEvaluator Episode Return: 79.75\n",
            "Episode: 740\tEpsilon: 0.10000000149011612\tEpisode Return: 61.0\tAverage Episode Return: 108.45\tEvaluator Episode Return: 79.75\n",
            "Episode: 750\tEpsilon: 0.10000000149011612\tEpisode Return: 74.0\tAverage Episode Return: 91.25\tEvaluator Episode Return: 88.5\n",
            "Episode: 760\tEpsilon: 0.10000000149011612\tEpisode Return: 67.0\tAverage Episode Return: 84.75\tEvaluator Episode Return: 78.625\n",
            "Episode: 770\tEpsilon: 0.10000000149011612\tEpisode Return: 63.0\tAverage Episode Return: 82.75\tEvaluator Episode Return: 78.125\n",
            "Episode: 780\tEpsilon: 0.10000000149011612\tEpisode Return: 83.0\tAverage Episode Return: 78.85\tEvaluator Episode Return: 76.25\n",
            "Episode: 790\tEpsilon: 0.10000000149011612\tEpisode Return: 107.0\tAverage Episode Return: 84.3\tEvaluator Episode Return: 238.75\n",
            "Episode: 800\tEpsilon: 0.10000000149011612\tEpisode Return: 92.0\tAverage Episode Return: 102.85\tEvaluator Episode Return: 255.75\n",
            "Episode: 810\tEpsilon: 0.10000000149011612\tEpisode Return: 500.0\tAverage Episode Return: 189.3\tEvaluator Episode Return: 367.0\n",
            "Episode: 820\tEpsilon: 0.10000000149011612\tEpisode Return: 123.0\tAverage Episode Return: 220.7\tEvaluator Episode Return: 22.625\n",
            "Episode: 830\tEpsilon: 0.10000000149011612\tEpisode Return: 19.0\tAverage Episode Return: 97.9\tEvaluator Episode Return: 20.0\n",
            "Episode: 840\tEpsilon: 0.10000000149011612\tEpisode Return: 135.0\tAverage Episode Return: 29.05\tEvaluator Episode Return: 137.75\n",
            "Episode: 850\tEpsilon: 0.10000000149011612\tEpisode Return: 70.0\tAverage Episode Return: 84.7\tEvaluator Episode Return: 72.375\n",
            "Episode: 860\tEpsilon: 0.10000000149011612\tEpisode Return: 191.0\tAverage Episode Return: 179.9\tEvaluator Episode Return: 472.125\n",
            "Episode: 870\tEpsilon: 0.10000000149011612\tEpisode Return: 500.0\tAverage Episode Return: 319.15\tEvaluator Episode Return: 500.0\n",
            "Episode: 880\tEpsilon: 0.10000000149011612\tEpisode Return: 500.0\tAverage Episode Return: 456.65\tEvaluator Episode Return: 500.0\n",
            "Episode: 890\tEpsilon: 0.10000000149011612\tEpisode Return: 500.0\tAverage Episode Return: 479.05\tEvaluator Episode Return: 500.0\n",
            "Episode: 900\tEpsilon: 0.10000000149011612\tEpisode Return: 365.0\tAverage Episode Return: 419.75\tEvaluator Episode Return: 426.375\n",
            "Episode: 910\tEpsilon: 0.10000000149011612\tEpisode Return: 214.0\tAverage Episode Return: 332.65\tEvaluator Episode Return: 253.25\n",
            "Episode: 920\tEpsilon: 0.10000000149011612\tEpisode Return: 230.0\tAverage Episode Return: 262.45\tEvaluator Episode Return: 247.0\n",
            "Episode: 930\tEpsilon: 0.10000000149011612\tEpisode Return: 249.0\tAverage Episode Return: 245.95\tEvaluator Episode Return: 253.0\n",
            "Episode: 940\tEpsilon: 0.10000000149011612\tEpisode Return: 329.0\tAverage Episode Return: 247.8\tEvaluator Episode Return: 309.25\n",
            "Episode: 950\tEpsilon: 0.10000000149011612\tEpisode Return: 500.0\tAverage Episode Return: 344.85\tEvaluator Episode Return: 500.0\n",
            "Episode: 960\tEpsilon: 0.10000000149011612\tEpisode Return: 500.0\tAverage Episode Return: 472.5\tEvaluator Episode Return: 500.0\n",
            "Episode: 970\tEpsilon: 0.10000000149011612\tEpisode Return: 500.0\tAverage Episode Return: 500.0\tEvaluator Episode Return: 500.0\n",
            "Episode: 980\tEpsilon: 0.10000000149011612\tEpisode Return: 500.0\tAverage Episode Return: 500.0\tEvaluator Episode Return: 438.875\n",
            "Episode: 990\tEpsilon: 0.10000000149011612\tEpisode Return: 500.0\tAverage Episode Return: 329.25\tEvaluator Episode Return: 438.875\n",
            "Episode: 1000\tEpsilon: 0.10000000149011612\tEpisode Return: 500.0\tAverage Episode Return: 329.25\tEvaluator Episode Return: 500.0\n"
          ]
        },
        {
          "output_type": "display_data",
          "data": {
            "text/plain": [
              "<Figure size 640x480 with 1 Axes>"
            ],
            "image/png": "[encoded data removed]"
          },
          "metadata": {}
        }
      ],
      "source": [
        "# Run environment loop\n",
        "print(\"Starting training. This may take a few minutes to complete.\")\n",
        "episode_returns, evaluator_returns = run_training_loop(\n",
        "                                        env_name,\n",
        "                                        Q_LEARNING_PARAMS,\n",
        "                                        q_learning_select_action_jit,\n",
        "                                        Q_LEARNING_ACTOR_STATE,\n",
        "                                        q_learn_jit,\n",
        "                                        Q_LEARNING_LEARN_STATE,\n",
        "                                        Q_LEARNING_MEMORY,\n",
        "                                        num_episodes=1001,\n",
        "                                        train_every_timestep=True, # do learning after every timestep\n",
        "                                        video_subdir=\"q_learning\")\n",
        "\n",
        "plt.plot(episode_returns)\n",
        "plt.xlabel(\"Episodes\")\n",
        "plt.ylabel(\"Episode Return\")\n",
        "plt.title(\"Deep Q-Learning\")\n",
        "plt.show()"
      ]
    },
    {
      "cell_type": "markdown",
      "metadata": {
        "id": "2k0-41wbpFDE"
      },
      "source": [
        "At this stage, the approximated Q-function hopefully converged to a decent policy for balancing the pole in the CartPole problem."
      ]
    },
    {
      "cell_type": "code",
      "execution_count": null,
      "metadata": {
        "id": "t4v0ZbB4FQUs",
        "colab": {
          "base_uri": "https://localhost:8080/",
          "height": 288
        },
        "outputId": "7f1a2a85-e554-4017-dfee-44ceecd77280"
      },
      "outputs": [
        {
          "output_type": "execute_result",
          "data": {
            "text/plain": [
              "<IPython.core.display.HTML object>"
            ],
            "text/html": [
              "\n",
              "<video width=400 controls>\n",
              "      <source src=\"data:video/mp4;base64,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\" type=\"video/mp4\">\n",
              "</video>\n"
            ]
          },
          "metadata": {},
          "execution_count": 35
        }
      ],
      "source": [
        "#@title Visualise Policy\n",
        "#@markdown Choose an episode number that is a multiple of 100 and less than or equal to 1000, and **run this cell**.\n",
        "\n",
        "episode_number = 700 #@param {type:\"number\"}\n",
        "\n",
        "assert (episode_number % 100) == 0, \"Episode number must be a multiple of 100 since we only record every 100th episode.\"\n",
        "assert episode_number < 1001, \"Episode number must be less than or equal to 1000\"\n",
        "\n",
        "eval_episode_number = int(episode_number / 100 * 8)\n",
        "video_path = f\"./video/q_learning/eval/rl-video-episode-{792}.mp4\"\n",
        "\n",
        "mp4 = open(video_path,'rb').read()\n",
        "data_url = \"data:video/mp4;base64,\" + b64encode(mp4).decode()\n",
        "HTML(\"\"\"\n",
        "<video width=400 controls>\n",
        "      <source src=\"%s\" type=\"video/mp4\">\n",
        "</video>\n",
        "\"\"\" % data_url)"
      ]
    },
    {
      "cell_type": "markdown",
      "metadata": {
        "id": "CIIteLdFwG4B"
      },
      "source": [
        "For the original research paper where DQN was first introduced, see here: [Playing Atari with Deep Reinforcement Learning](https://arxiv.org/abs/1312.5602). If you are interested, give the paper a read!"
      ]
    },
    {
      "cell_type": "markdown",
      "metadata": {
        "id": "fV3YG7QOZD-B"
      },
      "source": [
        "## **Now... to the moon!**\n",
        "\n",
        "<center>\n",
        "<img src=\"https://miro.medium.com/max/1194/1*Dj2fkRjrMA0w9E-PuyETdg.gif\" width=\"60%\" />\n",
        "</center>\n",
        "\n",
        "Once you have successfully solved CartPole using DQN, you should use what you have learned to help Steve land on the moon!\n",
        "\n",
        "For this you will use the [LunarLander](https://www.gymlibrary.ml/environments/box2d/lunar_lander/) environment. Simply go to the start of the notebook and replace the environment with LunarLander by replacing `env = gym.make(\"CartPole-v1\")` with env = `gym.make(\"LunarLander-v2\")`. Note, LunarLander is a significantly more challenging environment than CartPole. Therefore, you will likely need to experiment quite a bit to find the best hyperparameters for DQN, and possibly increase the number of training episodes in order to learn a good policy. In LunarLander, the environment is considered solved when the agent can reliably achieve an episode return of 200.\n",
        "\n",
        "\n"
      ]
    }
  ],
  "metadata": {
    "colab": {
      "provenance": [],
      "gpuType": "T4"
    },
    "kernelspec": {
      "display_name": "Python 3",
      "name": "python3"
    },
    "language_info": {
      "codemirror_mode": {
        "name": "ipython",
        "version": 3
      },
      "file_extension": ".py",
      "mimetype": "text/x-python",
      "name": "python",
      "nbconvert_exporter": "python",
      "pygments_lexer": "ipython3",
      "version": "3.8.13"
    },
    "vscode": {
      "interpreter": {
        "hash": "0f35138c66f99be0fd7a1210bb4aa94a6fbaa5f29d51ad43aec0e0ea0ff050f0"
      }
    },
    "accelerator": "GPU"
  },
  "nbformat": 4,
  "nbformat_minor": 0
}